{
  "nbformat": 4,
  "nbformat_minor": 0,
  "metadata": {
    "colab": {
      "provenance": []
    },
    "kernelspec": {
      "name": "python3",
      "display_name": "Python 3"
    },
    "language_info": {
      "name": "python"
    }
  },
  "cells": [
    {
      "cell_type": "code",
      "source": [
        "import os\n",
        "import pandas as pd\n",
        "import nltk\n",
        "import string\n",
        "import re\n",
        "import joblib\n",
        "import zipfile\n",
        "import json\n",
        "from tqdm import tqdm\n",
        "from nltk.corpus import stopwords\n",
        "from sklearn.model_selection import train_test_split\n",
        "from sklearn.feature_extraction.text import TfidfVectorizer\n",
        "from sklearn.ensemble import RandomForestClassifier\n",
        "from sklearn.linear_model import LogisticRegression\n",
        "from sklearn.svm import SVC\n",
        "from sklearn.naive_bayes import MultinomialNB\n",
        "from sklearn.metrics import classification_report, confusion_matrix, accuracy_score\n",
        "import seaborn as sns\n",
        "import matplotlib.pyplot as plt\n",
        "\n",
        "# Download NLTK stopwords if not already available\n",
        "nltk.download('stopwords', quiet=True)\n",
        "stop_words = set(stopwords.words('english'))"
      ],
      "metadata": {
        "id": "6SEqP5PYlrrQ"
      },
      "execution_count": 7,
      "outputs": []
    },
    {
      "cell_type": "code",
      "execution_count": 1,
      "metadata": {
        "colab": {
          "base_uri": "https://localhost:8080/"
        },
        "id": "mJOLUhk3jhbh",
        "outputId": "d6708191-3071-4052-8bfd-f7950fe8dfbe"
      },
      "outputs": [
        {
          "output_type": "stream",
          "name": "stdout",
          "text": [
            "Mounted at /content/drive\n"
          ]
        }
      ],
      "source": [
        "import os\n",
        "import zipfile\n",
        "\n",
        "# Mount Google Drive to access the dataset\n",
        "from google.colab import drive\n",
        "drive.mount('/content/drive')\n"
      ]
    },
    {
      "cell_type": "code",
      "source": [
        "# Path to the ZIP file on your Google Drive\n",
        "zip_file_path = '/content/drive/MyDrive/ML Task Data One/MachineLearningEngineerTest.zip'\n",
        "dataset_path = 'data'\n",
        "\n",
        "# Unzip the file\n",
        "if not os.path.exists(dataset_path):\n",
        "    print(\"Unzipping the dataset...\")\n",
        "    with zipfile.ZipFile(zip_file_path, 'r') as zip_ref:\n",
        "        zip_ref.extractall('.')\n",
        "    print(\"Dataset unzipped successfully.\")\n",
        "else:\n",
        "    print(\"Dataset already unzipped.\")"
      ],
      "metadata": {
        "colab": {
          "base_uri": "https://localhost:8080/"
        },
        "id": "L8JDKAZDj1Yy",
        "outputId": "cb031660-df73-4051-fa0c-1b520bf2fa60"
      },
      "execution_count": 2,
      "outputs": [
        {
          "output_type": "stream",
          "name": "stdout",
          "text": [
            "Unzipping the dataset...\n",
            "Dataset unzipped successfully.\n"
          ]
        }
      ]
    },
    {
      "cell_type": "code",
      "source": [
        "def load_data(ocr_dir):\n",
        "    \"\"\"Loads OCR text and labels from the dataset directory.\"\"\"\n",
        "    data = []\n",
        "    # Using 'tqdm' for a progress bar during data loading\n",
        "    for class_name in tqdm(os.listdir(ocr_dir), desc=\"Loading OCR Data\"):\n",
        "        class_dir = os.path.join(ocr_dir, class_name)\n",
        "        if os.path.isdir(class_dir):\n",
        "            for file_name in os.listdir(class_dir):\n",
        "                if file_name.endswith('.txt'):\n",
        "                    file_path = os.path.join(class_dir, file_name)\n",
        "                    with open(file_path, 'r', encoding='utf-8', errors='ignore') as f:\n",
        "                        text = f.read()\n",
        "                        data.append({'text': text, 'label': class_name})\n",
        "    return pd.DataFrame(data)\n",
        "\n",
        "# Load the dataset into a DataFrame\n",
        "df = load_data(\"/content/ML/data/ocr\")\n",
        "print(f\"Loaded {len(df)} documents with {len(df['label'].unique())} classes.\")"
      ],
      "metadata": {
        "colab": {
          "base_uri": "https://localhost:8080/"
        },
        "id": "K1tbXBGnj1cC",
        "outputId": "c13b8a34-8132-4fe4-fd9f-510c861dc93d"
      },
      "execution_count": 8,
      "outputs": [
        {
          "output_type": "stream",
          "name": "stderr",
          "text": [
            "Loading OCR Data: 100%|██████████| 5/5 [00:00<00:00, 71.69it/s]"
          ]
        },
        {
          "output_type": "stream",
          "name": "stdout",
          "text": [
            "Loaded 2500 documents with 5 classes.\n"
          ]
        },
        {
          "output_type": "stream",
          "name": "stderr",
          "text": [
            "\n"
          ]
        }
      ]
    },
    {
      "cell_type": "code",
      "source": [
        "\n",
        "def preprocess_text(text):\n",
        "    \"\"\"Cleans and preprocesses text data for the model.\"\"\"\n",
        "    text = text.lower()\n",
        "    text = text.translate(str.maketrans('', '', string.punctuation))\n",
        "    text = re.sub(r'\\d+', '', text)\n",
        "    text = ' '.join([word for word in text.split() if word not in stop_words])\n",
        "    return text\n",
        "\n",
        "# Apply preprocessing to the entire text column\n",
        "tqdm.pandas(desc=\"Preprocessing Text\")\n",
        "df['preprocessed_text'] = df['text'].progress_apply(preprocess_text)\n",
        "\n",
        "# Split data into training and testing sets\n",
        "X_train, X_test, y_train, y_test = train_test_split(\n",
        "    df['preprocessed_text'], df['label'], test_size=0.2, random_state=42, stratify=df['label']\n",
        ")\n",
        "\n",
        "# Initialize TF-IDF Vectorizer\n",
        "tfidf_vectorizer = TfidfVectorizer(max_features=5000)\n",
        "X_train_tfidf = tfidf_vectorizer.fit_transform(X_train)\n",
        "X_test_tfidf = tfidf_vectorizer.transform(X_test)\n",
        "print(f\"Transformed text into {X_train_tfidf.shape[1]} features.\")"
      ],
      "metadata": {
        "colab": {
          "base_uri": "https://localhost:8080/"
        },
        "id": "M8wiY7J-j1eu",
        "outputId": "e2548d64-020a-421a-c378-ad673408121f"
      },
      "execution_count": 9,
      "outputs": [
        {
          "output_type": "stream",
          "name": "stderr",
          "text": [
            "Preprocessing Text: 100%|██████████| 2500/2500 [00:01<00:00, 1689.68it/s]\n"
          ]
        },
        {
          "output_type": "stream",
          "name": "stdout",
          "text": [
            "Transformed text into 5000 features.\n"
          ]
        }
      ]
    },
    {
      "cell_type": "code",
      "source": [
        "# Define the models to be compared\n",
        "models = {\n",
        "    'Logistic Regression': LogisticRegression(random_state=42, max_iter=1000),\n",
        "    'Random Forest': RandomForestClassifier(random_state=42, n_estimators=100),\n",
        "    'Support Vector Machine': SVC(random_state=42),\n",
        "    'Naive Bayes': MultinomialNB()\n",
        "}\n",
        "\n",
        "# Store results for comparison\n",
        "results = []\n",
        "best_model = None\n",
        "best_accuracy = 0\n",
        "\n",
        "for name, model in tqdm(models.items(), desc=\"Training Models\"):\n",
        "    print(f\"\\nTraining {name}...\")\n",
        "    model.fit(X_train_tfidf, y_train)\n",
        "    y_pred = model.predict(X_test_tfidf)\n",
        "    accuracy = accuracy_score(y_test, y_pred)\n",
        "\n",
        "    # Store the results\n",
        "    results.append({\n",
        "        'Model': name,\n",
        "        'Accuracy': accuracy,\n",
        "        'Classification Report': classification_report(y_test, y_pred, output_dict=True),\n",
        "        'Confusion Matrix': confusion_matrix(y_test, y_pred, labels=model.classes_).tolist()\n",
        "    })\n",
        "\n",
        "    print(f\"{name} Accuracy: {accuracy:.4f}\")\n",
        "    print(f\"Classification Report for {name}:\\n{classification_report(y_test, y_pred)}\")\n",
        "\n",
        "    if accuracy > best_accuracy:\n",
        "        best_accuracy = accuracy\n",
        "        best_model = model\n",
        "\n",
        "# Save the best performing model and its vectorizer\n",
        "if best_model:\n",
        "    print(f\"\\nBest model is {type(best_model).__name__} with accuracy: {best_accuracy:.4f}\")\n",
        "    joblib.dump(best_model, 'best_model.joblib')\n",
        "    joblib.dump(tfidf_vectorizer, 'tfidf_vectorizer.joblib')\n",
        "    print(\"Best model and vectorizer saved as joblib files.\")\n"
      ],
      "metadata": {
        "colab": {
          "base_uri": "https://localhost:8080/"
        },
        "id": "kqiIPcPjj1gz",
        "outputId": "998aa79d-24e2-440c-efab-ca089719078c"
      },
      "execution_count": 10,
      "outputs": [
        {
          "output_type": "stream",
          "name": "stderr",
          "text": [
            "\rTraining Models:   0%|          | 0/4 [00:00<?, ?it/s]"
          ]
        },
        {
          "output_type": "stream",
          "name": "stdout",
          "text": [
            "\n",
            "Training Logistic Regression...\n"
          ]
        },
        {
          "output_type": "stream",
          "name": "stderr",
          "text": [
            "\rTraining Models:  25%|██▌       | 1/4 [00:00<00:02,  1.15it/s]"
          ]
        },
        {
          "output_type": "stream",
          "name": "stdout",
          "text": [
            "Logistic Regression Accuracy: 0.8600\n",
            "Classification Report for Logistic Regression:\n",
            "              precision    recall  f1-score   support\n",
            "\n",
            "           0       0.89      0.85      0.87       100\n",
            "           2       0.95      0.88      0.91       100\n",
            "           4       0.75      0.91      0.82       100\n",
            "           6       0.93      0.89      0.91       100\n",
            "           9       0.82      0.77      0.79       100\n",
            "\n",
            "    accuracy                           0.86       500\n",
            "   macro avg       0.87      0.86      0.86       500\n",
            "weighted avg       0.87      0.86      0.86       500\n",
            "\n",
            "\n",
            "Training Random Forest...\n"
          ]
        },
        {
          "output_type": "stream",
          "name": "stderr",
          "text": [
            "\rTraining Models:  50%|█████     | 2/4 [00:03<00:03,  1.62s/it]"
          ]
        },
        {
          "output_type": "stream",
          "name": "stdout",
          "text": [
            "Random Forest Accuracy: 0.8320\n",
            "Classification Report for Random Forest:\n",
            "              precision    recall  f1-score   support\n",
            "\n",
            "           0       0.88      0.82      0.85       100\n",
            "           2       0.87      0.91      0.89       100\n",
            "           4       0.72      0.94      0.81       100\n",
            "           6       0.90      0.88      0.89       100\n",
            "           9       0.84      0.61      0.71       100\n",
            "\n",
            "    accuracy                           0.83       500\n",
            "   macro avg       0.84      0.83      0.83       500\n",
            "weighted avg       0.84      0.83      0.83       500\n",
            "\n",
            "\n",
            "Training Support Vector Machine...\n"
          ]
        },
        {
          "output_type": "stream",
          "name": "stderr",
          "text": [
            "Training Models: 100%|██████████| 4/4 [00:08<00:00,  2.21s/it]"
          ]
        },
        {
          "output_type": "stream",
          "name": "stdout",
          "text": [
            "Support Vector Machine Accuracy: 0.8560\n",
            "Classification Report for Support Vector Machine:\n",
            "              precision    recall  f1-score   support\n",
            "\n",
            "           0       0.87      0.84      0.85       100\n",
            "           2       0.95      0.87      0.91       100\n",
            "           4       0.83      0.85      0.84       100\n",
            "           6       0.93      0.88      0.90       100\n",
            "           9       0.74      0.84      0.79       100\n",
            "\n",
            "    accuracy                           0.86       500\n",
            "   macro avg       0.86      0.86      0.86       500\n",
            "weighted avg       0.86      0.86      0.86       500\n",
            "\n",
            "\n",
            "Training Naive Bayes...\n",
            "Naive Bayes Accuracy: 0.7960\n",
            "Classification Report for Naive Bayes:\n",
            "              precision    recall  f1-score   support\n",
            "\n",
            "           0       0.68      0.84      0.75       100\n",
            "           2       0.93      0.87      0.90       100\n",
            "           4       0.92      0.54      0.68       100\n",
            "           6       0.89      0.86      0.87       100\n",
            "           9       0.69      0.87      0.77       100\n",
            "\n",
            "    accuracy                           0.80       500\n",
            "   macro avg       0.82      0.80      0.79       500\n",
            "weighted avg       0.82      0.80      0.79       500\n",
            "\n",
            "\n",
            "Best model is LogisticRegression with accuracy: 0.8600\n",
            "Best model and vectorizer saved as joblib files.\n"
          ]
        },
        {
          "output_type": "stream",
          "name": "stderr",
          "text": [
            "\n"
          ]
        }
      ]
    },
    {
      "cell_type": "code",
      "source": [
        "print(\"\\nGenerating visualizations...\")\n",
        "\n",
        "# 1. Model Accuracy Comparison Bar Chart\n",
        "accuracies = [res['Accuracy'] for res in results]\n",
        "model_names = [res['Model'] for res in results]\n",
        "\n",
        "plt.figure(figsize=(12, 7))\n",
        "sns.barplot(x=model_names, y=accuracies)\n",
        "plt.ylim(0, 1.1)\n",
        "plt.title('Model Accuracy Comparison')\n",
        "plt.xlabel('Model')\n",
        "plt.ylabel('Accuracy Score')\n",
        "plt.xticks(rotation=45)\n",
        "plt.tight_layout()\n",
        "plt.savefig('model_accuracy_comparison.png')\n",
        "print(\"Model accuracy comparison chart saved as 'model_accuracy_comparison.png'.\")\n",
        "\n",
        "# 2. Detailed Metrics Comparison Bar Chart (Precision, Recall, F1)\n",
        "metrics_data = []\n",
        "for res in results:\n",
        "    report = res['Classification Report']\n",
        "    for cls in report.keys():\n",
        "        if cls not in ['accuracy', 'macro avg', 'weighted avg']:\n",
        "            metrics_data.append({\n",
        "                'Model': res['Model'],\n",
        "                'Class': cls,\n",
        "                'Metric': 'Precision',\n",
        "                'Score': report[cls]['precision']\n",
        "            })\n",
        "            metrics_data.append({\n",
        "                'Model': res['Model'],\n",
        "                'Class': cls,\n",
        "                'Metric': 'Recall',\n",
        "                'Score': report[cls]['recall']\n",
        "            })\n",
        "            metrics_data.append({\n",
        "                'Model': res['Model'],\n",
        "                'Class': cls,\n",
        "                'Metric': 'F1-Score',\n",
        "                'Score': report[cls]['f1-score']\n",
        "            })\n",
        "df_metrics = pd.DataFrame(metrics_data)\n",
        "\n",
        "plt.figure(figsize=(15, 8))\n",
        "sns.barplot(x='Class', y='Score', hue='Model', data=df_metrics, palette='viridis')\n",
        "plt.ylim(0, 1.1)\n",
        "plt.title('Model Performance Comparison per Class')\n",
        "plt.xlabel('Document Class')\n",
        "plt.ylabel('Score')\n",
        "plt.xticks(rotation=45)\n",
        "plt.legend(title='Model')\n",
        "plt.tight_layout()\n",
        "plt.savefig('model_metrics_comparison.png')\n",
        "print(\"Detailed metrics comparison chart saved as 'model_metrics_comparison.png'.\")"
      ],
      "metadata": {
        "colab": {
          "base_uri": "https://localhost:8080/",
          "height": 1000
        },
        "id": "1vbAHXTmj1i-",
        "outputId": "2211d58f-3c81-4b66-e8f3-0b0eb02225fe"
      },
      "execution_count": 11,
      "outputs": [
        {
          "output_type": "stream",
          "name": "stdout",
          "text": [
            "\n",
            "Generating visualizations...\n",
            "Model accuracy comparison chart saved as 'model_accuracy_comparison.png'.\n",
            "Detailed metrics comparison chart saved as 'model_metrics_comparison.png'.\n"
          ]
        },
        {
          "output_type": "display_data",
          "data": {
            "text/plain": [
              "<Figure size 1200x700 with 1 Axes>"
            ],
            "image/png": "[encoded data removed]"
          },
          "metadata": {}
        },
        {
          "output_type": "display_data",
          "data": {
            "text/plain": [
              "<Figure size 1500x800 with 1 Axes>"
            ],
            "image/png": "[encoded data removed]"
          },
          "metadata": {}
        }
      ]
    },
    {
      "cell_type": "code",
      "source": [
        "import joblib\n",
        "import string\n",
        "import re\n",
        "import nltk\n",
        "from nltk.corpus import stopwords\n",
        "\n",
        "# Download NLTK stopwords if not already present\n",
        "try:\n",
        "    stopwords.words('english')\n",
        "except LookupError:\n",
        "    nltk.download('stopwords')\n",
        "\n",
        "# Define global variables for the model, vectorizer, and stopwords\n",
        "MODEL_PATH = \"best_model.joblib\"\n",
        "VECTORIZER_PATH = \"tfidf_vectorizer.joblib\"\n",
        "STOP_WORDS = set(stopwords.words('english'))\n",
        "\n",
        "# Load the trained model and vectorizer\n",
        "try:\n",
        "    model = joblib.load(MODEL_PATH)\n",
        "    tfidf_vectorizer = joblib.load(VECTORIZER_PATH)\n",
        "    print(\"Model and vectorizer loaded successfully.\")\n",
        "except FileNotFoundError:\n",
        "    print(f\"Error: Model or vectorizer files not found. \"\n",
        "          f\"Please ensure '{MODEL_PATH}' and '{VECTORIZER_PATH}' \"\n",
        "          f\"are in the same directory.\")\n",
        "    exit()\n",
        "\n",
        "def preprocess_text(text):\n",
        "    \"\"\"\n",
        "    Cleans and preprocesses text data for the model.\n",
        "    \"\"\"\n",
        "    # Convert to lowercase\n",
        "    text = text.lower()\n",
        "    # Remove punctuation\n",
        "    text = text.translate(str.maketrans('', '', string.punctuation))\n",
        "    # Remove digits\n",
        "    text = re.sub(r'\\d+', '', text)\n",
        "    # Remove stopwords\n",
        "    text = ' '.join([word for word in text.split() if word not in STOP_WORDS])\n",
        "    return text\n",
        "\n",
        "def predict_class(input_text):\n",
        "    \"\"\"\n",
        "    Takes raw text input, preprocesses it, and returns the predicted class.\n",
        "    \"\"\"\n",
        "    # Preprocess the input text\n",
        "    preprocessed_text = preprocess_text(input_text)\n",
        "\n",
        "    # Use the TF-IDF vectorizer to transform the text\n",
        "    text_vector = tfidf_vectorizer.transform([preprocessed_text])\n",
        "\n",
        "    # Get the model's prediction\n",
        "    prediction = model.predict(text_vector)\n",
        "\n",
        "    # Return the predicted class name\n",
        "    return prediction[0]\n",
        "\n",
        "# Sample inputs to test\n",
        "sample_inputs = [\n",
        "    (\"Invoice No: INV-2024-001\\nDate: 04/11/2024\\nCustomer: John Smith\\nItem 1: Laptop, QTY: 1, Price: $1200.00\\nTotal Amount Due: $1275.00\", \"Invoice/Financial\"),\n",
        "    (\"Patient: Jane Doe, DOB: 12/05/1990\\nSymptoms: Severe headache, fever, and persistent cough. Diagnosis: Influenza. Treatment: Prescribed Ibuprofen and advised rest.\", \"Medical/Clinical\"),\n",
        "    (\"This agreement, made this 15th day of November 2024, between Company A and Company B, hereby outlines the terms of service. The contract is binding for a period of 12 months.\", \"Legal/Contract\"),\n",
        "    (\"Step 1: Unpack the device from the box. Step 2: Connect the power cable to the back of the unit. Step 3: Press and hold the power button for three seconds to turn on the system.\", \"Technical Manual\"),\n",
        "    (\"Resume\\nName: Alex Chen\\nExperience: Senior Software Engineer at Tech Corp (2020-Present)\\nSkills: Python, Java, Machine Learning, AWS, TensorFlow.\", \"Resume/CV\")\n",
        "]\n",
        "\n",
        "# Run predictions for each sample input\n",
        "for text, description in sample_inputs:\n",
        "    predicted_class = predict_class(text)\n",
        "    print(f\"--- Testing: {description} ---\")\n",
        "    print(f\"Predicted Class: {predicted_class}\\n\")"
      ],
      "metadata": {
        "colab": {
          "base_uri": "https://localhost:8080/"
        },
        "id": "703HeVLNj1li",
        "outputId": "76dba1bc-d71c-4fe0-fbb4-f9b64441f821"
      },
      "execution_count": 12,
      "outputs": [
        {
          "output_type": "stream",
          "name": "stdout",
          "text": [
            "Model and vectorizer loaded successfully.\n",
            "--- Testing: Invoice/Financial ---\n",
            "Predicted Class: 2\n",
            "\n",
            "--- Testing: Medical/Clinical ---\n",
            "Predicted Class: 4\n",
            "\n",
            "--- Testing: Legal/Contract ---\n",
            "Predicted Class: 0\n",
            "\n",
            "--- Testing: Technical Manual ---\n",
            "Predicted Class: 4\n",
            "\n",
            "--- Testing: Resume/CV ---\n",
            "Predicted Class: 4\n",
            "\n"
          ]
        }
      ]
    },
    {
      "cell_type": "code",
      "source": [],
      "metadata": {
        "id": "n-WkSitxj1n0"
      },
      "execution_count": null,
      "outputs": []
    },
    {
      "cell_type": "code",
      "source": [],
      "metadata": {
        "id": "b7YyZ01gj1q6"
      },
      "execution_count": null,
      "outputs": []
    },
    {
      "cell_type": "code",
      "source": [],
      "metadata": {
        "id": "BxO07LI9j1uO"
      },
      "execution_count": null,
      "outputs": []
    }
  ]
}